{
  "nbformat": 4,
  "nbformat_minor": 0,
  "metadata": {
    "colab": {
      "provenance": [],
      "authorship_tag": "ABX9TyPcVw+EjPlLEGqBW4lckclH",
      "include_colab_link": true
    },
    "kernelspec": {
      "name": "python3",
      "display_name": "Python 3"
    },
    "language_info": {
      "name": "python"
    }
  },
  "cells": [
    {
      "cell_type": "markdown",
      "metadata": {
        "id": "view-in-github",
        "colab_type": "text"
      },
      "source": [
        "<a href=\"https://colab.research.google.com/github/maxluna12/max/blob/main/Ejercicio_clase1.ipynb\" target=\"_parent\"><img src=\"https://colab.research.google.com/assets/colab-badge.svg\" alt=\"Open In Colab\"/></a>"
      ]
    },
    {
      "cell_type": "code",
      "source": [
        "# union_conjuntos.py\n",
        "\n",
        "# Pedir los elementos de los conjuntos\n",
        "print(\"Elementos del conjunto A (separados por espacio):\")\n",
        "a = set(input().split())\n",
        "\n",
        "print(\"Elementos del conjunto B (separados por espacio):\")\n",
        "b = set(input().split())\n",
        "\n",
        "# Calcular la unión\n",
        "union = a | b\n",
        "\n",
        "# Mostrar resultados\n",
        "print(\"\\nUnión de A y B:\", union)"
      ],
      "metadata": {
        "colab": {
          "base_uri": "https://localhost:8080/"
        },
        "id": "PImEHJu5UAF2",
        "outputId": "14390595-9d47-4aca-c6f8-fc2d83297bb2"
      },
      "execution_count": 7,
      "outputs": [
        {
          "output_type": "stream",
          "name": "stdout",
          "text": [
            "Elementos del conjunto A (separados por espacio):\n",
            "2 3 4\n",
            "Elementos del conjunto B (separados por espacio):\n",
            "1 5 4\n",
            "\n",
            "Unión de A y B: {'4', '5', '1', '2', '3'}\n"
          ]
        }
      ]
    }
  ]
}