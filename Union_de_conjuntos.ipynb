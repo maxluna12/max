{
  "nbformat": 4,
  "nbformat_minor": 0,
  "metadata": {
    "colab": {
      "provenance": [],
      "authorship_tag": "ABX9TyO8Ufjk05xta/VCp34rcs0F",
      "include_colab_link": true
    },
    "kernelspec": {
      "name": "python3",
      "display_name": "Python 3"
    },
    "language_info": {
      "name": "python"
    }
  },
  "cells": [
    {
      "cell_type": "markdown",
      "metadata": {
        "id": "view-in-github",
        "colab_type": "text"
      },
      "source": [
        "<a href=\"https://colab.research.google.com/github/maxluna12/max/blob/main/Union_de_conjuntos.ipynb\" target=\"_parent\"><img src=\"https://colab.research.google.com/assets/colab-badge.svg\" alt=\"Open In Colab\"/></a>"
      ]
    },
    {
      "cell_type": "code",
      "source": [
        "# union_conjuntos.py\n",
        "def union_conjuntos():\n",
        "    \"\"\"Programa para encontrar la unión de dos conjuntos\"\"\"\n",
        "\n",
        "    print(\"       UNIÓN DE CONJUNTOS (A ∪ B)\")\n",
        "\n",
        "    print(\"Elementos que se encuentran en A o en B o en ambos\")\n",
        "    print()\n",
        "\n",
        "    # Ingresar conjunto A\n",
        "    print(\"Ingrese los elementos del conjunto A (separados por espacios):\")\n",
        "    elementos_a = input().split()\n",
        "    conjunto_a = set(elementos_a)\n",
        "\n",
        "    # Ingresar conjunto B\n",
        "    print(\"Ingrese los elementos del conjunto B (separados por espacios):\")\n",
        "    elementos_b = input().split()\n",
        "    conjunto_b = set(elementos_b)\n",
        "\n",
        "    # Calcular unión\n",
        "    union = conjunto_a | conjunto_b\n",
        "\n",
        "    # Mostrar resultados\n",
        "\n",
        "    print(\"RESULTADOS:\")\n",
        "    print(f\"Conjunto A: {conjunto_a}\")\n",
        "    print(f\"Conjunto B: {conjunto_b}\")\n",
        "    print(f\"Unión (A ∪ B): {union}\")\n",
        "    print(f\"Número de elementos en la unión: {len(union)}\")\n",
        "    print(\"=\" * 50)\n",
        "\n",
        "if __name__ == \"__main__\":\n",
        "    union_conjuntos()"
      ],
      "metadata": {
        "colab": {
          "base_uri": "https://localhost:8080/"
        },
        "id": "1kDF35uGEdjA",
        "outputId": "ebfc6cba-d24b-486f-baf6-c6804a5fc279"
      },
      "execution_count": 3,
      "outputs": [
        {
          "output_type": "stream",
          "name": "stdout",
          "text": [
            "       UNIÓN DE CONJUNTOS (A ∪ B)\n",
            "Elementos que se encuentran en A o en B o en ambos\n",
            "\n",
            "Ingrese los elementos del conjunto A (separados por espacios):\n",
            "3 2 4\n",
            "Ingrese los elementos del conjunto B (separados por espacios):\n",
            "4 6 8 9\n",
            "RESULTADOS:\n",
            "Conjunto A: {'4', '3', '2'}\n",
            "Conjunto B: {'4', '9', '8', '6'}\n",
            "Unión (A ∪ B): {'9', '8', '4', '3', '2', '6'}\n",
            "Número de elementos en la unión: 6\n",
            "==================================================\n"
          ]
        }
      ]
    }
  ]
}