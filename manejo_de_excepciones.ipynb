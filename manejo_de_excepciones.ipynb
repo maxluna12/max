{
  "nbformat": 4,
  "nbformat_minor": 0,
  "metadata": {
    "colab": {
      "provenance": [],
      "authorship_tag": "ABX9TyP46Mp+uvgcyw0Mvl8EsxcU",
      "include_colab_link": true
    },
    "kernelspec": {
      "name": "python3",
      "display_name": "Python 3"
    },
    "language_info": {
      "name": "python"
    }
  },
  "cells": [
    {
      "cell_type": "markdown",
      "metadata": {
        "id": "view-in-github",
        "colab_type": "text"
      },
      "source": [
        "<a href=\"https://colab.research.google.com/github/maxluna12/max/blob/main/manejo_de_excepciones.ipynb\" target=\"_parent\"><img src=\"https://colab.research.google.com/assets/colab-badge.svg\" alt=\"Open In Colab\"/></a>"
      ]
    },
    {
      "cell_type": "markdown",
      "source": [
        "Dividir Número"
      ],
      "metadata": {
        "id": "jnvzby3WTPvp"
      }
    },
    {
      "cell_type": "code",
      "source": [
        "def dividir_numeros():\n",
        "    try:\n",
        "        num1 = float(input(\"Ingrese el primer número: \"))\n",
        "        num2 = float(input(\"Ingrese el segundo número: \"))\n",
        "        resultado = num1 / num2\n",
        "        print(f\"Resultado: {resultado}\")\n",
        "    except ZeroDivisionError:\n",
        "        print(\"Error: No se puede dividir por cero.\")\n",
        "\n",
        "\n",
        "\n",
        "dividir_numeros()"
      ],
      "metadata": {
        "colab": {
          "base_uri": "https://localhost:8080/"
        },
        "id": "MquJvalDvQap",
        "outputId": "a6bfca1f-22ab-4f4b-b486-d8f77d521eb2"
      },
      "execution_count": 10,
      "outputs": [
        {
          "output_type": "stream",
          "name": "stdout",
          "text": [
            "Ingrese el primer número: 7\n",
            "Ingrese el segundo número: 0\n",
            "Error: No se puede dividir por cero.\n"
          ]
        }
      ]
    },
    {
      "cell_type": "markdown",
      "source": [
        "Sumar número y cadena"
      ],
      "metadata": {
        "id": "mcWGlBhwTZGO"
      }
    },
    {
      "cell_type": "code",
      "source": [
        "def sumar_numero_y_cadena():\n",
        "    while True:\n",
        "        try:\n",
        "            numero = int(input(\"Ingrese un número entero: \"))\n",
        "            cadena = input(\"Ingrese una cadena de texto: \")\n",
        "            resultado = numero + cadena  # Esto genera TypeError\n",
        "            print(f\"Resultado: {resultado}\")\n",
        "        except TypeError as e:\n",
        "            print(\"Error: No se puede sumar un número y una cadena.\")\n",
        "            guardar_error(e)\n",
        "\n",
        "\n",
        "        continuar = input(\"¿Desea intentar otra suma? (s/n): \").lower()\n",
        "        if continuar != 's':\n",
        "            print(\"Programa finalizado.\")\n",
        "            break\n",
        "\n",
        "def guardar_error(error):\n",
        "    with open(\"errores_suma.txt\", \"a\") as archivo:\n",
        "        archivo.write(f\"{type(error).__name__}: {str(error)}\\n\")\n",
        "\n",
        "\n",
        "sumar_numero_y_cadena()"
      ],
      "metadata": {
        "colab": {
          "base_uri": "https://localhost:8080/"
        },
        "id": "DUk80gbrvmjM",
        "outputId": "f2a97e25-2232-4087-cfa0-8c8e4cd991d1"
      },
      "execution_count": 1,
      "outputs": [
        {
          "output_type": "stream",
          "name": "stdout",
          "text": [
            "Ingrese un número entero: 7\n",
            "Ingrese una cadena de texto: Hola\n",
            "Error: No se puede sumar un número y una cadena.\n",
            "¿Desea intentar otra suma? (s/n): N\n",
            "Programa finalizado.\n"
          ]
        }
      ]
    },
    {
      "cell_type": "markdown",
      "source": [
        "Clave inexistente"
      ],
      "metadata": {
        "id": "43PLpsdZTgut"
      }
    },
    {
      "cell_type": "code",
      "source": [
        "def acceder_clave_diccionario():\n",
        "    datos = {\n",
        "        \"nombre\": \"Max\",\n",
        "        \"edad\": 30,\n",
        "        \"ciudad\": \"Ituzaingó\"\n",
        "    }\n",
        "\n",
        "    while True:\n",
        "        clave = input(\"Ingrese la clave que desea consultar: \")\n",
        "        try:\n",
        "            valor = datos[clave]\n",
        "            print(f\"Valor encontrado: {valor}\")\n",
        "        except KeyError as e:\n",
        "            print(f\"Error: La clave '{clave}' no existe en el diccionario.\")\n",
        "            guardar_error(e)\n",
        "\n",
        "        continuar = input(\"¿Desea consultar otra clave? (s/n): \").lower()\n",
        "        if continuar != 's':\n",
        "            print(\"Programa finalizado.\")\n",
        "            break\n",
        "\n",
        "def guardar_error(error):\n",
        "    with open(\"errores_diccionario.txt\", \"a\") as archivo:\n",
        "        archivo.write(f\"{type(error).__name__}: {str(error)}\\n\")\n",
        "\n",
        "\n",
        "acceder_clave_diccionario()"
      ],
      "metadata": {
        "colab": {
          "base_uri": "https://localhost:8080/"
        },
        "id": "jr_A9alBUn92",
        "outputId": "c81f3b34-9722-44f6-d373-0e17fe34406f"
      },
      "execution_count": 3,
      "outputs": [
        {
          "output_type": "stream",
          "name": "stdout",
          "text": [
            "Ingrese la clave que desea consultar: R\n",
            "Error: La clave 'R' no existe en el diccionario.\n",
            "¿Desea consultar otra clave? (s/n): N\n",
            "Programa finalizado.\n"
          ]
        }
      ]
    },
    {
      "cell_type": "markdown",
      "source": [
        "Abrir archivo inexistente"
      ],
      "metadata": {
        "id": "woXT5-lRU3at"
      }
    },
    {
      "cell_type": "code",
      "source": [
        "def abrir_o_crear_archivo(nombre_archivo):\n",
        "    try:\n",
        "        with open(nombre_archivo, \"r\") as archivo:\n",
        "            contenido = archivo.read()\n",
        "            print(\"Contenido del archivo:\")\n",
        "            print(contenido)\n",
        "    except FileNotFoundError as e:\n",
        "        print(f\"Error: El archivo '{nombre_archivo}' no existe.\")\n",
        "        guardar_error(e)\n",
        "        print(\"Creando el archivo...\")\n",
        "        with open(nombre_archivo, \"w\") as archivo:\n",
        "            archivo.write(\"Archivo creado automáticamente.\\n\")\n",
        "        print(f\"Archivo '{nombre_archivo}' creado con éxito.\")\n",
        "\n",
        "def guardar_error(error):\n",
        "    with open(\"errores_archivo.txt\", \"a\") as log:\n",
        "        log.write(f\"{type(error).__name__}: {str(error)}\\n\")\n",
        "\n",
        "\n",
        "nombre = input(\"Ingrese el nombre del archivo que desea abrir: \")\n",
        "abrir_o_crear_archivo(nombre)"
      ],
      "metadata": {
        "colab": {
          "base_uri": "https://localhost:8080/"
        },
        "id": "v7FLdD9EU2Aj",
        "outputId": "4f7106ca-41dd-4249-9726-6ad4693da354"
      },
      "execution_count": 4,
      "outputs": [
        {
          "output_type": "stream",
          "name": "stdout",
          "text": [
            "Ingrese el nombre del archivo que desea abrir: Kzssf\n",
            "Error: El archivo 'Kzssf' no existe.\n",
            "Creando el archivo...\n",
            "Archivo 'Kzssf' creado con éxito.\n"
          ]
        }
      ]
    },
    {
      "cell_type": "markdown",
      "source": [
        "Division número con 2 excepciones"
      ],
      "metadata": {
        "id": "SN8yf6EKX497"
      }
    },
    {
      "cell_type": "code",
      "source": [
        "def dividir_numeros():\n",
        "    while True:\n",
        "        try:\n",
        "            num1 = float(input(\"Ingrese el primer número: \"))\n",
        "            num2 = float(input(\"Ingrese el segundo número: \"))\n",
        "            resultado = num1 / num2\n",
        "            print(f\"Resultado: {resultado}\")\n",
        "        except ZeroDivisionError as e:\n",
        "            print(\"Error: No se puede dividir por cero.\")\n",
        "            guardar_error(e)\n",
        "        except ValueError as e:\n",
        "            print(\"Error: Entrada inválida. Ingrese números válidos.\")\n",
        "            guardar_error(e)\n",
        "\n",
        "        continuar = input(\"¿Desea realizar otra división? (s/n): \").lower()\n",
        "        if continuar != 's':\n",
        "            print(\"Programa finalizado.\")\n",
        "            break\n",
        "\n",
        "def guardar_error(error):\n",
        "    with open(\"errores_division.txt\", \"a\") as archivo:\n",
        "        archivo.write(f\"{type(error).__name__}: {str(error)}\\n\")\n",
        "\n",
        "\n",
        "dividir_numeros()"
      ],
      "metadata": {
        "colab": {
          "base_uri": "https://localhost:8080/"
        },
        "id": "z26__0yjX31_",
        "outputId": "06d3f11d-16f6-49d0-fd23-1ada6271e736"
      },
      "execution_count": 5,
      "outputs": [
        {
          "output_type": "stream",
          "name": "stdout",
          "text": [
            "Ingrese el primer número: R\n",
            "Error: Entrada inválida. Ingrese números válidos.\n",
            "¿Desea realizar otra división? (s/n): S\n",
            "Ingrese el primer número: 4\n",
            "Ingrese el segundo número: 0\n",
            "Error: No se puede dividir por cero.\n",
            "¿Desea realizar otra división? (s/n): S\n",
            "Ingrese el primer número: 3\n",
            "Ingrese el segundo número: 5\n",
            "Resultado: 0.6\n",
            "¿Desea realizar otra división? (s/n): N\n",
            "Programa finalizado.\n"
          ]
        }
      ]
    }
  ]
}